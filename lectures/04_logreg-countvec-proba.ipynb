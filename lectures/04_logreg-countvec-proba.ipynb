{
 "cells": [
  {
   "cell_type": "markdown",
   "metadata": {
    "slideshow": {
     "slide_type": "slide"
    }
   },
   "source": [
    "# CPSC 330 Lecture 4"
   ]
  },
  {
   "cell_type": "markdown",
   "metadata": {
    "slideshow": {
     "slide_type": "slide"
    }
   },
   "source": [
    "#### Lecture plan\n",
    "\n",
    "- 👋\n",
    "- **Turn on recording**\n",
    "- Announcements\n",
    "- Cross-validation True/False poll (5 min)\n",
    "- Logistic regression intro (5 min)\n",
    "- `CountVectorizer` and feature preprocessing pitfalls (35 min)\n",
    "- Break (5 min)\n",
    "- Logistic regression: `predict_proba` (10 min)\n",
    "- Logistic regression: coefficients and interpretation (10 min)\n",
    "- Logistic regression with continuous features (10 min)\n",
    "- True/False questions (time-permitting)"
   ]
  },
  {
   "cell_type": "markdown",
   "metadata": {},
   "source": [
    "## Learning objectives\n",
    "\n",
    "- Apply logistic regression to classification problems\n",
    "- Correctly apply `CountVectorizer` to preprocess text data (avoiding common pitfalls)\n",
    "- Use `predict_proba` and interpret its output with a healthy dose of skepticism\n",
    "- Interpret the coefficients of a trained logistic regression model\n",
    "- Identify the key hyperparameter of `LogisticRegression` (namely, `C`)"
   ]
  },
  {
   "cell_type": "code",
   "execution_count": 1,
   "metadata": {
    "slideshow": {
     "slide_type": "skip"
    }
   },
   "outputs": [],
   "source": [
    "import numpy as np\n",
    "import pandas as pd\n",
    "import matplotlib.pyplot as plt\n",
    "plt.rcParams['font.size'] = 16\n",
    "\n",
    "from sklearn.tree import DecisionTreeClassifier\n",
    "from sklearn.model_selection import train_test_split \n",
    "from sklearn.feature_extraction.text import CountVectorizer\n",
    "from sklearn.linear_model import LogisticRegression\n",
    "\n",
    "from plot_classifier import plot_classifier"
   ]
  },
  {
   "cell_type": "markdown",
   "metadata": {},
   "source": [
    "## Announcements\n",
    "\n",
    "- Add/drop deadline has passed - welcome to the course!\n",
    "- hw1 grades posted, hw2 deadline passed (expect for late joiners), hw3 will posted later today, hw2 solutions will be posted tomorrow.\n",
    "- Changes to class format.\n",
    "  - Watch parties cancelled due to very low attendance.\n",
    "  - We have Yuxi with us in lecture today.\n",
    "  - We'll try Zoom chat today and probably try Piazza Live Q&A on Thursday to see what works better.\n",
    "  - There are designated Q&A periods sprinkled throughout this lecture, where I will stop and answer questions.\n",
    "  - Yuxi will answer some questions in real-time as well.\n",
    "- For those who were added to the course recently:\n",
    "  - If you did not complete hw1, you can drop it as your lowest hw grade.\n",
    "  - You can have until 11:59pm tonight to complete hw2. \n",
    "  - You can still submit the syllabus quiz."
   ]
  },
  {
   "cell_type": "markdown",
   "metadata": {},
   "source": [
    "## Cross-validation True/False poll (5 min)\n",
    "\n",
    "https://piazza.com/class/kb2e6nwu3uj23?cid=178"
   ]
  },
  {
   "cell_type": "markdown",
   "metadata": {},
   "source": [
    "## Logistic regression intro (5 min)"
   ]
  },
  {
   "cell_type": "markdown",
   "metadata": {
    "slideshow": {
     "slide_type": "slide"
    }
   },
   "source": [
    "#### Motivating example \n",
    "\n",
    "- Sentiment analysis: predict the sentiment of text, such as a movie review.\n",
    "- Targets: positive 👍 and negative 👎\n",
    "- Features: words (e.g., *excellent*, *well* for 👍 and *boring* for 👎)\n",
    "\n",
    "<blockquote> \n",
    "    <p>Review 1: This movie was <b>excellent</b>! The performances were oscar-worthy!  👍 </p> \n",
    "    <p>Review 2: What a <b>boring</b> movie! I almost fell asleep twice while watching it. 👎 </p> \n",
    "    <p>Review 3: I enjoyed the movie. <b>Excellent</b>! 👍 </p>             \n",
    "</blockquote>  "
   ]
  },
  {
   "cell_type": "markdown",
   "metadata": {
    "slideshow": {
     "slide_type": "slide"
    }
   },
   "source": [
    "#### Intuition behind a linear classifier\n",
    "\n",
    "- Learn coefficients (weights) associated with different features\n",
    "\n",
    "<img src='img/words_coeff.png' width=\"300\" height=\"300\" />\n",
    "\n",
    "- Use these learned coefficients to make predictions. For example, consider the following review $x_i$. \n",
    "<blockquote> \n",
    "    <p>It got a bit <b>boring</b> at times but the direction was <b>excellent</b> and the acting was <b>flawless</b>. </p> \n",
    "</blockquote>"
   ]
  },
  {
   "cell_type": "markdown",
   "metadata": {
    "slideshow": {
     "slide_type": "slide"
    }
   },
   "source": [
    "#### Linear classifier \n",
    "\n",
    "- $\\textrm{score}(review) = $ coefficient(*boring*) + coefficient(*excellent*) + coefficient(*flawless*) = $-1.40 + 1.93 + 1.43 = 1.96$\n",
    "- Since $score(review) = 1.96 > 0$, predict the review as positive 👍. \n",
    "- Components of a linear model\n",
    "    - input features\n",
    "    - coefficients (weights), one per feature\n",
    "    - bias or intercept"
   ]
  },
  {
   "cell_type": "markdown",
   "metadata": {
    "slideshow": {
     "slide_type": "slide"
    }
   },
   "source": [
    "#### Logistic regression\n",
    "\n",
    "In particular, we will focus on \n",
    "- use `fit`, `predict`, `predict_proba`\n",
    "- use `coef_` to interpret the model weights \n"
   ]
  },
  {
   "cell_type": "markdown",
   "metadata": {},
   "source": [
    "## Q&A\n",
    "\n",
    "(Pause for Q&A)"
   ]
  },
  {
   "cell_type": "markdown",
   "metadata": {},
   "source": [
    "## `CountVectorizer` and the Golden Rule (35 min)"
   ]
  },
  {
   "cell_type": "markdown",
   "metadata": {
    "slideshow": {
     "slide_type": "slide"
    }
   },
   "source": [
    "#### Let's train it on a dataset\n",
    "\n",
    "I have downloaded the [IMDB movie review dataset](https://www.kaggle.com/utathya/imdb-review-dataset) from Kaggle. You should be able to download it as well. I did not push it to the home repo because it is large and because I don't have permission to redistribute it."
   ]
  },
  {
   "cell_type": "code",
   "execution_count": 2,
   "metadata": {
    "slideshow": {
     "slide_type": "slide"
    }
   },
   "outputs": [
    {
     "data": {
      "text/html": [
       "<div>\n",
       "<style scoped>\n",
       "    .dataframe tbody tr th:only-of-type {\n",
       "        vertical-align: middle;\n",
       "    }\n",
       "\n",
       "    .dataframe tbody tr th {\n",
       "        vertical-align: top;\n",
       "    }\n",
       "\n",
       "    .dataframe thead th {\n",
       "        text-align: right;\n",
       "    }\n",
       "</style>\n",
       "<table border=\"1\" class=\"dataframe\">\n",
       "  <thead>\n",
       "    <tr style=\"text-align: right;\">\n",
       "      <th></th>\n",
       "      <th>type</th>\n",
       "      <th>review</th>\n",
       "      <th>label</th>\n",
       "      <th>file</th>\n",
       "    </tr>\n",
       "  </thead>\n",
       "  <tbody>\n",
       "    <tr>\n",
       "      <th>12438</th>\n",
       "      <td>test</td>\n",
       "      <td>As Jennifer Denuccio used to say on Square Peg...</td>\n",
       "      <td>neg</td>\n",
       "      <td>9946_2.txt</td>\n",
       "    </tr>\n",
       "    <tr>\n",
       "      <th>5705</th>\n",
       "      <td>test</td>\n",
       "      <td>With Knightly and O'Tool as the leads, this fi...</td>\n",
       "      <td>neg</td>\n",
       "      <td>3886_3.txt</td>\n",
       "    </tr>\n",
       "    <tr>\n",
       "      <th>11675</th>\n",
       "      <td>test</td>\n",
       "      <td>Take a bad script, some lousy acting and throw...</td>\n",
       "      <td>neg</td>\n",
       "      <td>9259_1.txt</td>\n",
       "    </tr>\n",
       "    <tr>\n",
       "      <th>9824</th>\n",
       "      <td>test</td>\n",
       "      <td>Strange things happen to Americans Will (Greg ...</td>\n",
       "      <td>neg</td>\n",
       "      <td>7593_3.txt</td>\n",
       "    </tr>\n",
       "    <tr>\n",
       "      <th>22581</th>\n",
       "      <td>test</td>\n",
       "      <td>Sometimes, you're up late at night flipping th...</td>\n",
       "      <td>pos</td>\n",
       "      <td>7824_7.txt</td>\n",
       "    </tr>\n",
       "    <tr>\n",
       "      <th>...</th>\n",
       "      <td>...</td>\n",
       "      <td>...</td>\n",
       "      <td>...</td>\n",
       "      <td>...</td>\n",
       "    </tr>\n",
       "    <tr>\n",
       "      <th>31555</th>\n",
       "      <td>train</td>\n",
       "      <td>With a cast of stalwart British character acto...</td>\n",
       "      <td>neg</td>\n",
       "      <td>4650_2.txt</td>\n",
       "    </tr>\n",
       "    <tr>\n",
       "      <th>36478</th>\n",
       "      <td>train</td>\n",
       "      <td>There's a lot of movies that have set release ...</td>\n",
       "      <td>neg</td>\n",
       "      <td>9081_1.txt</td>\n",
       "    </tr>\n",
       "    <tr>\n",
       "      <th>35878</th>\n",
       "      <td>train</td>\n",
       "      <td>Welcome to movie 17 on the chilling classics 5...</td>\n",
       "      <td>neg</td>\n",
       "      <td>8541_1.txt</td>\n",
       "    </tr>\n",
       "    <tr>\n",
       "      <th>16040</th>\n",
       "      <td>test</td>\n",
       "      <td>This is a forgotten classic of a film, and Har...</td>\n",
       "      <td>pos</td>\n",
       "      <td>1937_10.txt</td>\n",
       "    </tr>\n",
       "    <tr>\n",
       "      <th>12996</th>\n",
       "      <td>test</td>\n",
       "      <td>Spoilers: This movie has it's problems, but in...</td>\n",
       "      <td>pos</td>\n",
       "      <td>10447_7.txt</td>\n",
       "    </tr>\n",
       "  </tbody>\n",
       "</table>\n",
       "<p>10000 rows × 4 columns</p>\n",
       "</div>"
      ],
      "text/plain": [
       "        type                                             review label  \\\n",
       "12438   test  As Jennifer Denuccio used to say on Square Peg...   neg   \n",
       "5705    test  With Knightly and O'Tool as the leads, this fi...   neg   \n",
       "11675   test  Take a bad script, some lousy acting and throw...   neg   \n",
       "9824    test  Strange things happen to Americans Will (Greg ...   neg   \n",
       "22581   test  Sometimes, you're up late at night flipping th...   pos   \n",
       "...      ...                                                ...   ...   \n",
       "31555  train  With a cast of stalwart British character acto...   neg   \n",
       "36478  train  There's a lot of movies that have set release ...   neg   \n",
       "35878  train  Welcome to movie 17 on the chilling classics 5...   neg   \n",
       "16040   test  This is a forgotten classic of a film, and Har...   pos   \n",
       "12996   test  Spoilers: This movie has it's problems, but in...   pos   \n",
       "\n",
       "              file  \n",
       "12438   9946_2.txt  \n",
       "5705    3886_3.txt  \n",
       "11675   9259_1.txt  \n",
       "9824    7593_3.txt  \n",
       "22581   7824_7.txt  \n",
       "...            ...  \n",
       "31555   4650_2.txt  \n",
       "36478   9081_1.txt  \n",
       "35878   8541_1.txt  \n",
       "16040  1937_10.txt  \n",
       "12996  10447_7.txt  \n",
       "\n",
       "[10000 rows x 4 columns]"
      ]
     },
     "execution_count": 2,
     "metadata": {},
     "output_type": "execute_result"
    }
   ],
   "source": [
    "imdb_df = pd.read_csv('data/imdb_master.csv', index_col=0, encoding=\"ISO-8859-1\")\n",
    "imdb_df = imdb_df[imdb_df['label'].str.startswith(('pos','neg'))]\n",
    "imdb_df = imdb_df.sample(frac=0.2, random_state=999) # Take a subsample of the dataset for speed\n",
    "imdb_df"
   ]
  },
  {
   "cell_type": "code",
   "execution_count": 3,
   "metadata": {},
   "outputs": [
    {
     "data": {
      "text/plain": [
       "(10000, 4)"
      ]
     },
     "execution_count": 3,
     "metadata": {},
     "output_type": "execute_result"
    }
   ],
   "source": [
    "imdb_df.shape"
   ]
  },
  {
   "cell_type": "markdown",
   "metadata": {},
   "source": [
    "- Above, we used some key words in a review to decide how to classify it. \n",
    "- But here, we just have raw text:"
   ]
  },
  {
   "cell_type": "code",
   "execution_count": 4,
   "metadata": {},
   "outputs": [
    {
     "data": {
      "text/plain": [
       "\"This is an example of why the majority of action films are the same. Generic and boring, there's really nothing worth watching here. A complete waste of the then barely-tapped talents of Ice-T and Ice Cube, who've each proven many times over that they are capable of acting, and acting well. Don't bother with this one, go see New Jack City, Ricochet or watch New York Undercover for Ice-T, or Boyz n the Hood, Higher Learning or Friday for Ice Cube and see the real deal. Ice-T's horribly cliched dialogue alone makes this film grate at the teeth, and I'm still wondering what the heck Bill Paxton was doing in this film? And why the heck does he always play the exact same character? From Aliens onward, every film I've seen with Bill Paxton has him playing the exact same irritating character, and at least in Aliens his character died, which made it somewhat gratifying...<br /><br />Overall, this is second-rate action trash. There are countless better films to see, and if you really want to see this one, watch Judgement Night, which is practically a carbon copy but has better acting and a better script. The only thing that made this at all worth watching was a decent hand on the camera - the cinematography was almost refreshing, which comes close to making up for the horrible film itself - but not quite. 4/10.\""
      ]
     },
     "execution_count": 4,
     "metadata": {},
     "output_type": "execute_result"
    }
   ],
   "source": [
    "imdb_df.loc[1,\"review\"]"
   ]
  },
  {
   "cell_type": "markdown",
   "metadata": {},
   "source": [
    "We need a way to transform this raw text into use usual tabular format, where each column is a feature... hmm... 🤔\n",
    "\n",
    "<br><br><br><br>\n",
    "\n",
    "How about this: each word is a feature (column), and we check whether the word is present or absent in the review 💡"
   ]
  },
  {
   "cell_type": "code",
   "execution_count": 5,
   "metadata": {},
   "outputs": [],
   "source": [
    "from sklearn.feature_extraction.text import CountVectorizer"
   ]
  },
  {
   "cell_type": "markdown",
   "metadata": {},
   "source": [
    "Make a `CountVectorizer` object:"
   ]
  },
  {
   "cell_type": "code",
   "execution_count": 6,
   "metadata": {
    "slideshow": {
     "slide_type": "slide"
    }
   },
   "outputs": [],
   "source": [
    "vec = CountVectorizer(binary=True)"
   ]
  },
  {
   "cell_type": "markdown",
   "metadata": {},
   "source": [
    "Note `binary=True` means just check whether a word is present (1) or absent (0), instead of counting the number of occurrences of the word."
   ]
  },
  {
   "cell_type": "markdown",
   "metadata": {},
   "source": [
    "Call `fit`:"
   ]
  },
  {
   "cell_type": "code",
   "execution_count": 7,
   "metadata": {},
   "outputs": [
    {
     "data": {
      "text/plain": [
       "CountVectorizer(binary=True)"
      ]
     },
     "execution_count": 7,
     "metadata": {},
     "output_type": "execute_result"
    }
   ],
   "source": [
    "vec.fit(imdb_df[\"review\"]) "
   ]
  },
  {
   "cell_type": "markdown",
   "metadata": {},
   "source": [
    "For feature preprocessing objects, called _transformers_, we use `transform` instead of `predict` (indeed, it's not a prediction):"
   ]
  },
  {
   "cell_type": "code",
   "execution_count": 8,
   "metadata": {},
   "outputs": [],
   "source": [
    "X = vec.transform(imdb_df[\"review\"])"
   ]
  },
  {
   "cell_type": "code",
   "execution_count": 9,
   "metadata": {},
   "outputs": [
    {
     "data": {
      "text/plain": [
       "array([[0, 0, 0, ..., 0, 0, 0]])"
      ]
     },
     "execution_count": 9,
     "metadata": {},
     "output_type": "execute_result"
    }
   ],
   "source": [
    "X[1].toarray()"
   ]
  },
  {
   "cell_type": "markdown",
   "metadata": {},
   "source": [
    "Hmm, is it only zeros for this first review?"
   ]
  },
  {
   "cell_type": "code",
   "execution_count": 10,
   "metadata": {},
   "outputs": [
    {
     "data": {
      "text/plain": [
       "(10000, 52863)"
      ]
     },
     "execution_count": 10,
     "metadata": {},
     "output_type": "execute_result"
    }
   ],
   "source": [
    "X.shape"
   ]
  },
  {
   "cell_type": "markdown",
   "metadata": {},
   "source": [
    "That's a lot of columns!"
   ]
  },
  {
   "cell_type": "code",
   "execution_count": 11,
   "metadata": {},
   "outputs": [
    {
     "data": {
      "text/plain": [
       "['00',\n",
       " '000',\n",
       " '001',\n",
       " '007',\n",
       " '0093638',\n",
       " '00pm',\n",
       " '00s',\n",
       " '01',\n",
       " '02',\n",
       " '03',\n",
       " '04',\n",
       " '041',\n",
       " '05',\n",
       " '06',\n",
       " '0615',\n",
       " '06th',\n",
       " '07',\n",
       " '08',\n",
       " '089',\n",
       " '0and']"
      ]
     },
     "execution_count": 11,
     "metadata": {},
     "output_type": "execute_result"
    }
   ],
   "source": [
    "vec.get_feature_names()[:20]"
   ]
  },
  {
   "cell_type": "markdown",
   "metadata": {},
   "source": [
    "- Ok, this seems like a lot of useless \"words\".\n",
    "- We can use some hyperparameters of the `CountVectorizer` to just take more common words.\n",
    "- Note: later in the course we will explore more options here.\n",
    "  - For now we'll just focus on subsetting the features."
   ]
  },
  {
   "cell_type": "code",
   "execution_count": 12,
   "metadata": {},
   "outputs": [],
   "source": [
    "vec = CountVectorizer(min_df=50, binary=True) # words that appear at least n times\n",
    "\n",
    "vec.fit(imdb_df[\"review\"]) \n",
    "\n",
    "X = vec.transform(imdb_df[\"review\"])"
   ]
  },
  {
   "cell_type": "code",
   "execution_count": 13,
   "metadata": {},
   "outputs": [
    {
     "data": {
      "text/plain": [
       "(10000, 3243)"
      ]
     },
     "execution_count": 13,
     "metadata": {},
     "output_type": "execute_result"
    }
   ],
   "source": [
    "X.shape"
   ]
  },
  {
   "cell_type": "markdown",
   "metadata": {},
   "source": [
    "We can also explicitly ask for the top $n$ words:"
   ]
  },
  {
   "cell_type": "code",
   "execution_count": 14,
   "metadata": {},
   "outputs": [],
   "source": [
    "vec = CountVectorizer(max_features=1000, binary=True) # max n columns\n",
    "\n",
    "vec.fit(imdb_df[\"review\"]) \n",
    "\n",
    "X = vec.transform(imdb_df[\"review\"])"
   ]
  },
  {
   "cell_type": "markdown",
   "metadata": {},
   "source": [
    "Note there is shorthand for this in scikit-learn:"
   ]
  },
  {
   "cell_type": "code",
   "execution_count": 15,
   "metadata": {},
   "outputs": [],
   "source": [
    "X = vec.fit_transform(imdb_df[\"review\"])"
   ]
  },
  {
   "cell_type": "code",
   "execution_count": 17,
   "metadata": {},
   "outputs": [
    {
     "data": {
      "text/plain": [
       "(10000, 1000)"
      ]
     },
     "execution_count": 17,
     "metadata": {},
     "output_type": "execute_result"
    }
   ],
   "source": [
    "X.shape"
   ]
  },
  {
   "cell_type": "code",
   "execution_count": 18,
   "metadata": {},
   "outputs": [
    {
     "data": {
      "text/html": [
       "<div>\n",
       "<style scoped>\n",
       "    .dataframe tbody tr th:only-of-type {\n",
       "        vertical-align: middle;\n",
       "    }\n",
       "\n",
       "    .dataframe tbody tr th {\n",
       "        vertical-align: top;\n",
       "    }\n",
       "\n",
       "    .dataframe thead th {\n",
       "        text-align: right;\n",
       "    }\n",
       "</style>\n",
       "<table border=\"1\" class=\"dataframe\">\n",
       "  <thead>\n",
       "    <tr style=\"text-align: right;\">\n",
       "      <th></th>\n",
       "      <th>10</th>\n",
       "      <th>20</th>\n",
       "      <th>30</th>\n",
       "      <th>80</th>\n",
       "      <th>able</th>\n",
       "      <th>about</th>\n",
       "      <th>above</th>\n",
       "      <th>absolutely</th>\n",
       "      <th>across</th>\n",
       "      <th>act</th>\n",
       "      <th>...</th>\n",
       "      <th>wrong</th>\n",
       "      <th>year</th>\n",
       "      <th>years</th>\n",
       "      <th>yes</th>\n",
       "      <th>yet</th>\n",
       "      <th>york</th>\n",
       "      <th>you</th>\n",
       "      <th>young</th>\n",
       "      <th>your</th>\n",
       "      <th>yourself</th>\n",
       "    </tr>\n",
       "  </thead>\n",
       "  <tbody>\n",
       "    <tr>\n",
       "      <th>0</th>\n",
       "      <td>0</td>\n",
       "      <td>0</td>\n",
       "      <td>0</td>\n",
       "      <td>0</td>\n",
       "      <td>0</td>\n",
       "      <td>1</td>\n",
       "      <td>0</td>\n",
       "      <td>0</td>\n",
       "      <td>0</td>\n",
       "      <td>1</td>\n",
       "      <td>...</td>\n",
       "      <td>0</td>\n",
       "      <td>1</td>\n",
       "      <td>0</td>\n",
       "      <td>0</td>\n",
       "      <td>0</td>\n",
       "      <td>0</td>\n",
       "      <td>0</td>\n",
       "      <td>0</td>\n",
       "      <td>1</td>\n",
       "      <td>0</td>\n",
       "    </tr>\n",
       "    <tr>\n",
       "      <th>1</th>\n",
       "      <td>0</td>\n",
       "      <td>0</td>\n",
       "      <td>0</td>\n",
       "      <td>0</td>\n",
       "      <td>0</td>\n",
       "      <td>0</td>\n",
       "      <td>0</td>\n",
       "      <td>0</td>\n",
       "      <td>0</td>\n",
       "      <td>0</td>\n",
       "      <td>...</td>\n",
       "      <td>0</td>\n",
       "      <td>0</td>\n",
       "      <td>1</td>\n",
       "      <td>0</td>\n",
       "      <td>0</td>\n",
       "      <td>0</td>\n",
       "      <td>0</td>\n",
       "      <td>0</td>\n",
       "      <td>0</td>\n",
       "      <td>0</td>\n",
       "    </tr>\n",
       "    <tr>\n",
       "      <th>2</th>\n",
       "      <td>0</td>\n",
       "      <td>0</td>\n",
       "      <td>0</td>\n",
       "      <td>0</td>\n",
       "      <td>1</td>\n",
       "      <td>1</td>\n",
       "      <td>0</td>\n",
       "      <td>0</td>\n",
       "      <td>1</td>\n",
       "      <td>0</td>\n",
       "      <td>...</td>\n",
       "      <td>0</td>\n",
       "      <td>0</td>\n",
       "      <td>0</td>\n",
       "      <td>0</td>\n",
       "      <td>0</td>\n",
       "      <td>0</td>\n",
       "      <td>1</td>\n",
       "      <td>1</td>\n",
       "      <td>0</td>\n",
       "      <td>0</td>\n",
       "    </tr>\n",
       "    <tr>\n",
       "      <th>3</th>\n",
       "      <td>1</td>\n",
       "      <td>0</td>\n",
       "      <td>0</td>\n",
       "      <td>0</td>\n",
       "      <td>0</td>\n",
       "      <td>0</td>\n",
       "      <td>0</td>\n",
       "      <td>0</td>\n",
       "      <td>0</td>\n",
       "      <td>0</td>\n",
       "      <td>...</td>\n",
       "      <td>0</td>\n",
       "      <td>0</td>\n",
       "      <td>0</td>\n",
       "      <td>0</td>\n",
       "      <td>0</td>\n",
       "      <td>0</td>\n",
       "      <td>0</td>\n",
       "      <td>1</td>\n",
       "      <td>0</td>\n",
       "      <td>0</td>\n",
       "    </tr>\n",
       "    <tr>\n",
       "      <th>4</th>\n",
       "      <td>1</td>\n",
       "      <td>0</td>\n",
       "      <td>0</td>\n",
       "      <td>1</td>\n",
       "      <td>0</td>\n",
       "      <td>1</td>\n",
       "      <td>0</td>\n",
       "      <td>0</td>\n",
       "      <td>0</td>\n",
       "      <td>0</td>\n",
       "      <td>...</td>\n",
       "      <td>0</td>\n",
       "      <td>1</td>\n",
       "      <td>1</td>\n",
       "      <td>0</td>\n",
       "      <td>0</td>\n",
       "      <td>0</td>\n",
       "      <td>1</td>\n",
       "      <td>0</td>\n",
       "      <td>1</td>\n",
       "      <td>0</td>\n",
       "    </tr>\n",
       "    <tr>\n",
       "      <th>...</th>\n",
       "      <td>...</td>\n",
       "      <td>...</td>\n",
       "      <td>...</td>\n",
       "      <td>...</td>\n",
       "      <td>...</td>\n",
       "      <td>...</td>\n",
       "      <td>...</td>\n",
       "      <td>...</td>\n",
       "      <td>...</td>\n",
       "      <td>...</td>\n",
       "      <td>...</td>\n",
       "      <td>...</td>\n",
       "      <td>...</td>\n",
       "      <td>...</td>\n",
       "      <td>...</td>\n",
       "      <td>...</td>\n",
       "      <td>...</td>\n",
       "      <td>...</td>\n",
       "      <td>...</td>\n",
       "      <td>...</td>\n",
       "      <td>...</td>\n",
       "    </tr>\n",
       "    <tr>\n",
       "      <th>9995</th>\n",
       "      <td>0</td>\n",
       "      <td>0</td>\n",
       "      <td>0</td>\n",
       "      <td>0</td>\n",
       "      <td>0</td>\n",
       "      <td>1</td>\n",
       "      <td>0</td>\n",
       "      <td>0</td>\n",
       "      <td>0</td>\n",
       "      <td>0</td>\n",
       "      <td>...</td>\n",
       "      <td>1</td>\n",
       "      <td>0</td>\n",
       "      <td>0</td>\n",
       "      <td>0</td>\n",
       "      <td>0</td>\n",
       "      <td>0</td>\n",
       "      <td>0</td>\n",
       "      <td>0</td>\n",
       "      <td>0</td>\n",
       "      <td>0</td>\n",
       "    </tr>\n",
       "    <tr>\n",
       "      <th>9996</th>\n",
       "      <td>0</td>\n",
       "      <td>0</td>\n",
       "      <td>0</td>\n",
       "      <td>0</td>\n",
       "      <td>0</td>\n",
       "      <td>1</td>\n",
       "      <td>0</td>\n",
       "      <td>1</td>\n",
       "      <td>0</td>\n",
       "      <td>0</td>\n",
       "      <td>...</td>\n",
       "      <td>0</td>\n",
       "      <td>0</td>\n",
       "      <td>1</td>\n",
       "      <td>0</td>\n",
       "      <td>0</td>\n",
       "      <td>0</td>\n",
       "      <td>1</td>\n",
       "      <td>1</td>\n",
       "      <td>1</td>\n",
       "      <td>0</td>\n",
       "    </tr>\n",
       "    <tr>\n",
       "      <th>9997</th>\n",
       "      <td>1</td>\n",
       "      <td>1</td>\n",
       "      <td>1</td>\n",
       "      <td>0</td>\n",
       "      <td>0</td>\n",
       "      <td>0</td>\n",
       "      <td>0</td>\n",
       "      <td>1</td>\n",
       "      <td>0</td>\n",
       "      <td>0</td>\n",
       "      <td>...</td>\n",
       "      <td>0</td>\n",
       "      <td>0</td>\n",
       "      <td>0</td>\n",
       "      <td>0</td>\n",
       "      <td>0</td>\n",
       "      <td>0</td>\n",
       "      <td>1</td>\n",
       "      <td>0</td>\n",
       "      <td>0</td>\n",
       "      <td>0</td>\n",
       "    </tr>\n",
       "    <tr>\n",
       "      <th>9998</th>\n",
       "      <td>0</td>\n",
       "      <td>0</td>\n",
       "      <td>0</td>\n",
       "      <td>0</td>\n",
       "      <td>0</td>\n",
       "      <td>0</td>\n",
       "      <td>0</td>\n",
       "      <td>0</td>\n",
       "      <td>0</td>\n",
       "      <td>0</td>\n",
       "      <td>...</td>\n",
       "      <td>0</td>\n",
       "      <td>0</td>\n",
       "      <td>0</td>\n",
       "      <td>0</td>\n",
       "      <td>0</td>\n",
       "      <td>0</td>\n",
       "      <td>1</td>\n",
       "      <td>0</td>\n",
       "      <td>0</td>\n",
       "      <td>0</td>\n",
       "    </tr>\n",
       "    <tr>\n",
       "      <th>9999</th>\n",
       "      <td>1</td>\n",
       "      <td>0</td>\n",
       "      <td>0</td>\n",
       "      <td>0</td>\n",
       "      <td>0</td>\n",
       "      <td>1</td>\n",
       "      <td>0</td>\n",
       "      <td>0</td>\n",
       "      <td>1</td>\n",
       "      <td>0</td>\n",
       "      <td>...</td>\n",
       "      <td>0</td>\n",
       "      <td>0</td>\n",
       "      <td>0</td>\n",
       "      <td>0</td>\n",
       "      <td>0</td>\n",
       "      <td>0</td>\n",
       "      <td>0</td>\n",
       "      <td>0</td>\n",
       "      <td>0</td>\n",
       "      <td>0</td>\n",
       "    </tr>\n",
       "  </tbody>\n",
       "</table>\n",
       "<p>10000 rows × 1000 columns</p>\n",
       "</div>"
      ],
      "text/plain": [
       "      10  20  30  80  able  about  above  absolutely  across  act  ...  wrong  \\\n",
       "0      0   0   0   0     0      1      0           0       0    1  ...      0   \n",
       "1      0   0   0   0     0      0      0           0       0    0  ...      0   \n",
       "2      0   0   0   0     1      1      0           0       1    0  ...      0   \n",
       "3      1   0   0   0     0      0      0           0       0    0  ...      0   \n",
       "4      1   0   0   1     0      1      0           0       0    0  ...      0   \n",
       "...   ..  ..  ..  ..   ...    ...    ...         ...     ...  ...  ...    ...   \n",
       "9995   0   0   0   0     0      1      0           0       0    0  ...      1   \n",
       "9996   0   0   0   0     0      1      0           1       0    0  ...      0   \n",
       "9997   1   1   1   0     0      0      0           1       0    0  ...      0   \n",
       "9998   0   0   0   0     0      0      0           0       0    0  ...      0   \n",
       "9999   1   0   0   0     0      1      0           0       1    0  ...      0   \n",
       "\n",
       "      year  years  yes  yet  york  you  young  your  yourself  \n",
       "0        1      0    0    0     0    0      0     1         0  \n",
       "1        0      1    0    0     0    0      0     0         0  \n",
       "2        0      0    0    0     0    1      1     0         0  \n",
       "3        0      0    0    0     0    0      1     0         0  \n",
       "4        1      1    0    0     0    1      0     1         0  \n",
       "...    ...    ...  ...  ...   ...  ...    ...   ...       ...  \n",
       "9995     0      0    0    0     0    0      0     0         0  \n",
       "9996     0      1    0    0     0    1      1     1         0  \n",
       "9997     0      0    0    0     0    1      0     0         0  \n",
       "9998     0      0    0    0     0    1      0     0         0  \n",
       "9999     0      0    0    0     0    0      0     0         0  \n",
       "\n",
       "[10000 rows x 1000 columns]"
      ]
     },
     "execution_count": 18,
     "metadata": {},
     "output_type": "execute_result"
    }
   ],
   "source": [
    "data_df = pd.DataFrame(data=X.toarray(), columns=vec.get_feature_names())\n",
    "data_df"
   ]
  },
  {
   "cell_type": "code",
   "execution_count": 20,
   "metadata": {},
   "outputs": [
    {
     "data": {
      "text/plain": [
       "12438    neg\n",
       "5705     neg\n",
       "11675    neg\n",
       "9824     neg\n",
       "22581    pos\n",
       "        ... \n",
       "31555    neg\n",
       "36478    neg\n",
       "35878    neg\n",
       "16040    pos\n",
       "12996    pos\n",
       "Name: label, Length: 10000, dtype: object"
      ]
     },
     "execution_count": 20,
     "metadata": {},
     "output_type": "execute_result"
    }
   ],
   "source": [
    "y = imdb_df['label']\n",
    "y"
   ]
  },
  {
   "cell_type": "markdown",
   "metadata": {},
   "source": [
    "## Q&A\n",
    "\n",
    "(Pause for Q&A)\n",
    "\n",
    "<br><br><br><br>"
   ]
  },
  {
   "cell_type": "markdown",
   "metadata": {},
   "source": [
    "Ok, now we split the data...\n",
    "\n",
    "Note there are two different ways to call `train_test_split`:\n",
    "\n",
    "```python\n",
    "df_train, df_test = train_test_split(df_all)\n",
    "```\n",
    "\n",
    "or\n",
    "\n",
    "```python\n",
    "X_train, X_test, y_train, y_test = train_test_split(X_all, y_all)\n",
    "```\n",
    "\n",
    "Both are fine.\n",
    "\n",
    "Note the order of the outputs though, I find it un-intuitive!"
   ]
  },
  {
   "cell_type": "code",
   "execution_count": 21,
   "metadata": {},
   "outputs": [],
   "source": [
    "X_train_imdb, X_test_imdb, y_train_imdb, y_test_imdb = train_test_split(X, y, random_state = 123)"
   ]
  },
  {
   "cell_type": "markdown",
   "metadata": {},
   "source": [
    "Ok, this seems reasonable. Are we all good?\n",
    "\n",
    "<br><br><br><br><br><br>"
   ]
  },
  {
   "cell_type": "markdown",
   "metadata": {},
   "source": [
    "### NO!!\n",
    "\n",
    "- Remember, the test data should be **unseen** data.\n",
    "- Here, the test data influenced how we preprocessed the training data:\n",
    "  - We used it to determine which words were the top words.\n",
    "  - In fact, some of our features might be words that don't even appear in the training set!!\n",
    "  - Thus, **the test error is no longer an accurate measure of how our model generalizes to unsees data**.\n",
    "- This is called The Golden Rule of ML: the test data should not influence the training process in any way.\n",
    "- If we violate the Golden Rule, our test score will be overly optimistic!\n",
    "  - That is, deployment accuracy will probably be worse."
   ]
  },
  {
   "cell_type": "markdown",
   "metadata": {},
   "source": [
    "## The \"Golden Rule\"\n",
    "\n",
    "- Previously, we used cross-validation to inform our choice of the least overfit model.\n",
    "- Is this okay? It can be, if we don't do this too many times.\n",
    "- If we use it too many times, we suffer from \"optimization bias\"."
   ]
  },
  {
   "cell_type": "markdown",
   "metadata": {},
   "source": [
    "- The \"golden rule\" is that we need to be extremely vigilant about what data is being used for what.\n",
    "- A test set should only be used \"once\".  \n",
    "- Even if only used once, it won't be a perfect representation of deployment error:\n",
    "  1. Bad luck (which gets worse if it's a smaller set of data)\n",
    "  2. The deployment data comes from a different distribution\n",
    "  3. And if it's used more than once, then you have another problem, which is that it influenced training and is no longer \"unseen data\".\n",
    "\n",
    "Avoid this 3rd issue! The other two are bad enough."
   ]
  },
  {
   "cell_type": "markdown",
   "metadata": {},
   "source": [
    "## Q&A\n",
    "\n",
    "<br><br><br><br>"
   ]
  },
  {
   "cell_type": "markdown",
   "metadata": {},
   "source": [
    "Back to our dataset. We need to start over..."
   ]
  },
  {
   "cell_type": "code",
   "execution_count": 22,
   "metadata": {},
   "outputs": [],
   "source": [
    "# Just to be safe\n",
    "imdb_df = pd.read_csv('data/imdb_master.csv', index_col=0, encoding=\"ISO-8859-1\")\n",
    "imdb_df = imdb_df[imdb_df['label'].str.startswith(('pos','neg'))]\n",
    "imdb_df = imdb_df.sample(frac=0.2, random_state=999)"
   ]
  },
  {
   "cell_type": "markdown",
   "metadata": {},
   "source": [
    "We'll split right away to avoid violating the Golden Rule:"
   ]
  },
  {
   "cell_type": "code",
   "execution_count": 23,
   "metadata": {},
   "outputs": [],
   "source": [
    "# STEP 1\n",
    "imdb_train, imdb_test = train_test_split(imdb_df, random_state=123)"
   ]
  },
  {
   "cell_type": "code",
   "execution_count": 24,
   "metadata": {},
   "outputs": [],
   "source": [
    "X_train_imdb_raw = imdb_train['review']\n",
    "y_train_imdb = imdb_train['label']\n",
    "\n",
    "X_test_imdb_raw = imdb_test['review']\n",
    "y_test_imdb = imdb_test['label']"
   ]
  },
  {
   "cell_type": "code",
   "execution_count": 25,
   "metadata": {},
   "outputs": [],
   "source": [
    "vec = CountVectorizer(min_df=50)"
   ]
  },
  {
   "cell_type": "code",
   "execution_count": 26,
   "metadata": {},
   "outputs": [],
   "source": [
    "X_train_imdb = vec.fit_transform(X_train_imdb_raw)"
   ]
  },
  {
   "cell_type": "code",
   "execution_count": 27,
   "metadata": {},
   "outputs": [],
   "source": [
    "X_test_imdb = vec.fit_transform(X_test_imdb_raw)"
   ]
  },
  {
   "cell_type": "markdown",
   "metadata": {},
   "source": [
    "Now surely we're all good, right?\n",
    "\n",
    "<br><br><br><br><br><br>"
   ]
  },
  {
   "cell_type": "markdown",
   "metadata": {},
   "source": [
    "### NOPE"
   ]
  },
  {
   "cell_type": "code",
   "execution_count": 28,
   "metadata": {},
   "outputs": [],
   "source": [
    "dt = DecisionTreeClassifier()"
   ]
  },
  {
   "cell_type": "code",
   "execution_count": 29,
   "metadata": {},
   "outputs": [],
   "source": [
    "dt.fit(X_train_imdb, y_train_imdb);"
   ]
  },
  {
   "cell_type": "code",
   "execution_count": 30,
   "metadata": {
    "tags": [
     "raises-exception"
    ]
   },
   "outputs": [
    {
     "ename": "ValueError",
     "evalue": "Number of features of the model must match the input. Model n_features is 2573 and input n_features is 1025 ",
     "output_type": "error",
     "traceback": [
      "\u001b[0;31m---------------------------------------------------------------------------\u001b[0m",
      "\u001b[0;31mValueError\u001b[0m                                Traceback (most recent call last)",
      "\u001b[0;32m<ipython-input-30-7a5c6356b78e>\u001b[0m in \u001b[0;36m<module>\u001b[0;34m\u001b[0m\n\u001b[0;32m----> 1\u001b[0;31m \u001b[0mdt\u001b[0m\u001b[0;34m.\u001b[0m\u001b[0mpredict\u001b[0m\u001b[0;34m(\u001b[0m\u001b[0mX_test_imdb\u001b[0m\u001b[0;34m)\u001b[0m\u001b[0;34m\u001b[0m\u001b[0;34m\u001b[0m\u001b[0m\n\u001b[0m",
      "\u001b[0;32m/opt/miniconda3/envs/cpsc330env/lib/python3.8/site-packages/sklearn/tree/_classes.py\u001b[0m in \u001b[0;36mpredict\u001b[0;34m(self, X, check_input)\u001b[0m\n\u001b[1;32m    425\u001b[0m         \"\"\"\n\u001b[1;32m    426\u001b[0m         \u001b[0mcheck_is_fitted\u001b[0m\u001b[0;34m(\u001b[0m\u001b[0mself\u001b[0m\u001b[0;34m)\u001b[0m\u001b[0;34m\u001b[0m\u001b[0;34m\u001b[0m\u001b[0m\n\u001b[0;32m--> 427\u001b[0;31m         \u001b[0mX\u001b[0m \u001b[0;34m=\u001b[0m \u001b[0mself\u001b[0m\u001b[0;34m.\u001b[0m\u001b[0m_validate_X_predict\u001b[0m\u001b[0;34m(\u001b[0m\u001b[0mX\u001b[0m\u001b[0;34m,\u001b[0m \u001b[0mcheck_input\u001b[0m\u001b[0;34m)\u001b[0m\u001b[0;34m\u001b[0m\u001b[0;34m\u001b[0m\u001b[0m\n\u001b[0m\u001b[1;32m    428\u001b[0m         \u001b[0mproba\u001b[0m \u001b[0;34m=\u001b[0m \u001b[0mself\u001b[0m\u001b[0;34m.\u001b[0m\u001b[0mtree_\u001b[0m\u001b[0;34m.\u001b[0m\u001b[0mpredict\u001b[0m\u001b[0;34m(\u001b[0m\u001b[0mX\u001b[0m\u001b[0;34m)\u001b[0m\u001b[0;34m\u001b[0m\u001b[0;34m\u001b[0m\u001b[0m\n\u001b[1;32m    429\u001b[0m         \u001b[0mn_samples\u001b[0m \u001b[0;34m=\u001b[0m \u001b[0mX\u001b[0m\u001b[0;34m.\u001b[0m\u001b[0mshape\u001b[0m\u001b[0;34m[\u001b[0m\u001b[0;36m0\u001b[0m\u001b[0;34m]\u001b[0m\u001b[0;34m\u001b[0m\u001b[0;34m\u001b[0m\u001b[0m\n",
      "\u001b[0;32m/opt/miniconda3/envs/cpsc330env/lib/python3.8/site-packages/sklearn/tree/_classes.py\u001b[0m in \u001b[0;36m_validate_X_predict\u001b[0;34m(self, X, check_input)\u001b[0m\n\u001b[1;32m    394\u001b[0m         \u001b[0mn_features\u001b[0m \u001b[0;34m=\u001b[0m \u001b[0mX\u001b[0m\u001b[0;34m.\u001b[0m\u001b[0mshape\u001b[0m\u001b[0;34m[\u001b[0m\u001b[0;36m1\u001b[0m\u001b[0;34m]\u001b[0m\u001b[0;34m\u001b[0m\u001b[0;34m\u001b[0m\u001b[0m\n\u001b[1;32m    395\u001b[0m         \u001b[0;32mif\u001b[0m \u001b[0mself\u001b[0m\u001b[0;34m.\u001b[0m\u001b[0mn_features_\u001b[0m \u001b[0;34m!=\u001b[0m \u001b[0mn_features\u001b[0m\u001b[0;34m:\u001b[0m\u001b[0;34m\u001b[0m\u001b[0;34m\u001b[0m\u001b[0m\n\u001b[0;32m--> 396\u001b[0;31m             raise ValueError(\"Number of features of the model must \"\n\u001b[0m\u001b[1;32m    397\u001b[0m                              \u001b[0;34m\"match the input. Model n_features is %s and \"\u001b[0m\u001b[0;34m\u001b[0m\u001b[0;34m\u001b[0m\u001b[0m\n\u001b[1;32m    398\u001b[0m                              \u001b[0;34m\"input n_features is %s \"\u001b[0m\u001b[0;34m\u001b[0m\u001b[0;34m\u001b[0m\u001b[0m\n",
      "\u001b[0;31mValueError\u001b[0m: Number of features of the model must match the input. Model n_features is 2573 and input n_features is 1025 "
     ]
    }
   ],
   "source": [
    "dt.predict(X_test_imdb)"
   ]
  },
  {
   "cell_type": "code",
   "execution_count": 31,
   "metadata": {},
   "outputs": [
    {
     "data": {
      "text/plain": [
       "(7500, 2573)"
      ]
     },
     "execution_count": 31,
     "metadata": {},
     "output_type": "execute_result"
    }
   ],
   "source": [
    "X_train_imdb.shape"
   ]
  },
  {
   "cell_type": "code",
   "execution_count": 32,
   "metadata": {},
   "outputs": [
    {
     "data": {
      "text/plain": [
       "(2500, 1025)"
      ]
     },
     "execution_count": 32,
     "metadata": {},
     "output_type": "execute_result"
    }
   ],
   "source": [
    "X_test_imdb.shape"
   ]
  },
  {
   "cell_type": "markdown",
   "metadata": {},
   "source": [
    "- What happened here?\n",
    "- We fit the transformer on the training data, and transformed.\n",
    "- Then we fit the transformer on the test data, and transformed.\n",
    "- Now our data set makes no sense - we have a different number of columns in our train/test set!\n",
    "- So, for example, the decision tree will split on a word \"amazing\", which is feature 2000, but then when we predict, we don't even have that feature!\n",
    "- This is not a Golden Rule issue, it's just a preprocessing failure.\n",
    "  - But note how the Golden Rule issue is harder to catch, because there's no Python error message.\n",
    " \n",
    "Another rule: we must follow exactly the same preprocessing steps for train/test (and we'll bring this back to cross-validation next class)."
   ]
  },
  {
   "cell_type": "markdown",
   "metadata": {},
   "source": [
    "In fact, if we had used `max_features` instead of `min_df` we wouldn't have even gotten a Python error message! See below:"
   ]
  },
  {
   "cell_type": "code",
   "execution_count": 39,
   "metadata": {},
   "outputs": [],
   "source": [
    "vec = CountVectorizer(max_features=1000)"
   ]
  },
  {
   "cell_type": "code",
   "execution_count": 40,
   "metadata": {},
   "outputs": [],
   "source": [
    "X_train_imdb = vec.fit_transform(X_train_imdb_raw)"
   ]
  },
  {
   "cell_type": "code",
   "execution_count": 41,
   "metadata": {},
   "outputs": [
    {
     "data": {
      "text/plain": [
       "['10', '20', '80']"
      ]
     },
     "execution_count": 41,
     "metadata": {},
     "output_type": "execute_result"
    }
   ],
   "source": [
    "vec.get_feature_names()[:3]"
   ]
  },
  {
   "cell_type": "code",
   "execution_count": 42,
   "metadata": {},
   "outputs": [],
   "source": [
    "X_test_imdb = vec.fit_transform(X_test_imdb_raw);"
   ]
  },
  {
   "cell_type": "code",
   "execution_count": 43,
   "metadata": {},
   "outputs": [
    {
     "data": {
      "text/plain": [
       "['10', '20', '30']"
      ]
     },
     "execution_count": 43,
     "metadata": {},
     "output_type": "execute_result"
    }
   ],
   "source": [
    "vec.get_feature_names()[:3]"
   ]
  },
  {
   "cell_type": "code",
   "execution_count": 44,
   "metadata": {},
   "outputs": [],
   "source": [
    "dt = DecisionTreeClassifier()"
   ]
  },
  {
   "cell_type": "code",
   "execution_count": 45,
   "metadata": {},
   "outputs": [],
   "source": [
    "dt.fit(X_train_imdb, y_train_imdb);"
   ]
  },
  {
   "cell_type": "code",
   "execution_count": 46,
   "metadata": {},
   "outputs": [
    {
     "data": {
      "text/plain": [
       "array(['neg', 'pos', 'neg', ..., 'neg', 'neg', 'neg'], dtype=object)"
      ]
     },
     "execution_count": 46,
     "metadata": {},
     "output_type": "execute_result"
    }
   ],
   "source": [
    "dt.predict(X_test_imdb)"
   ]
  },
  {
   "cell_type": "markdown",
   "metadata": {},
   "source": [
    "- Note: no error message.\n",
    "- The problem is that the coefficients correspond to the **order** of the features, so the results will be completely invalid."
   ]
  },
  {
   "cell_type": "markdown",
   "metadata": {},
   "source": [
    "#### Attempt 3 (I promise it will be OK this time)"
   ]
  },
  {
   "cell_type": "code",
   "execution_count": 47,
   "metadata": {},
   "outputs": [],
   "source": [
    "# Just to be safe\n",
    "imdb_df = pd.read_csv('data/imdb_master.csv', index_col=0, encoding=\"ISO-8859-1\")\n",
    "imdb_df = imdb_df[imdb_df['label'].str.startswith(('pos','neg'))]\n",
    "imdb_df = imdb_df.sample(frac=0.2, random_state=999)"
   ]
  },
  {
   "cell_type": "code",
   "execution_count": 48,
   "metadata": {},
   "outputs": [],
   "source": [
    "# STEP 1\n",
    "imdb_train, imdb_test = train_test_split(imdb_df, random_state=123)"
   ]
  },
  {
   "cell_type": "code",
   "execution_count": 49,
   "metadata": {},
   "outputs": [],
   "source": [
    "X_train_imdb_raw = imdb_train['review']\n",
    "y_train_imdb = imdb_train['label']\n",
    "\n",
    "X_test_imdb_raw = imdb_test['review']\n",
    "y_test_imdb = imdb_test['label']"
   ]
  },
  {
   "cell_type": "code",
   "execution_count": 50,
   "metadata": {},
   "outputs": [],
   "source": [
    "vec = CountVectorizer(min_df=50, binary=True)"
   ]
  },
  {
   "cell_type": "code",
   "execution_count": 51,
   "metadata": {},
   "outputs": [],
   "source": [
    "X_train_imdb = vec.fit_transform(X_train_imdb_raw)"
   ]
  },
  {
   "cell_type": "markdown",
   "metadata": {},
   "source": [
    "We do not want this next line!!!"
   ]
  },
  {
   "cell_type": "code",
   "execution_count": null,
   "metadata": {},
   "outputs": [],
   "source": [
    "# vec.fit(X_test_imdb_raw);"
   ]
  },
  {
   "cell_type": "markdown",
   "metadata": {},
   "source": [
    "We transform the test data with the transformer _fit on the training data_!!"
   ]
  },
  {
   "cell_type": "code",
   "execution_count": 52,
   "metadata": {},
   "outputs": [],
   "source": [
    "X_test_imdb = vec.transform(X_test_imdb_raw);"
   ]
  },
  {
   "cell_type": "markdown",
   "metadata": {},
   "source": [
    "Ok, let's give this a try:"
   ]
  },
  {
   "cell_type": "code",
   "execution_count": 53,
   "metadata": {},
   "outputs": [],
   "source": [
    "dt = DecisionTreeClassifier()\n",
    "dt.fit(X_train_imdb, y_train_imdb);"
   ]
  },
  {
   "cell_type": "code",
   "execution_count": 54,
   "metadata": {},
   "outputs": [
    {
     "data": {
      "text/plain": [
       "1.0"
      ]
     },
     "execution_count": 54,
     "metadata": {},
     "output_type": "execute_result"
    }
   ],
   "source": [
    "dt.score(X_train_imdb, y_train_imdb)"
   ]
  },
  {
   "cell_type": "code",
   "execution_count": 55,
   "metadata": {},
   "outputs": [
    {
     "data": {
      "text/plain": [
       "0.686"
      ]
     },
     "execution_count": 55,
     "metadata": {},
     "output_type": "execute_result"
    }
   ],
   "source": [
    "dt.score(X_test_imdb, y_test_imdb)"
   ]
  },
  {
   "cell_type": "markdown",
   "metadata": {},
   "source": [
    "## Q&A\n",
    "\n",
    "(Pause for Q&A)\n",
    "\n",
    "<br><br><br><br>"
   ]
  },
  {
   "cell_type": "markdown",
   "metadata": {},
   "source": [
    "## Break (5 min)\n",
    "\n"
   ]
  },
  {
   "cell_type": "markdown",
   "metadata": {
    "slideshow": {
     "slide_type": "slide"
    }
   },
   "source": [
    "## Logistic regression: `predict_proba` (10 min)"
   ]
  },
  {
   "cell_type": "code",
   "execution_count": 62,
   "metadata": {},
   "outputs": [],
   "source": [
    "from sklearn.dummy import DummyClassifier\n",
    "dc = DummyClassifier(strategy=\"prior\")"
   ]
  },
  {
   "cell_type": "code",
   "execution_count": 63,
   "metadata": {},
   "outputs": [],
   "source": [
    "dc.fit(X_train_imdb, y_train_imdb);"
   ]
  },
  {
   "cell_type": "code",
   "execution_count": 64,
   "metadata": {},
   "outputs": [
    {
     "data": {
      "text/plain": [
       "0.5024"
      ]
     },
     "execution_count": 64,
     "metadata": {},
     "output_type": "execute_result"
    }
   ],
   "source": [
    "dc.score(X_train_imdb, y_train_imdb)"
   ]
  },
  {
   "cell_type": "code",
   "execution_count": 56,
   "metadata": {
    "slideshow": {
     "slide_type": "slide"
    }
   },
   "outputs": [],
   "source": [
    "lr = LogisticRegression(max_iter=1000)\n",
    "lr.fit(X_train_imdb, y_train_imdb);"
   ]
  },
  {
   "cell_type": "code",
   "execution_count": 57,
   "metadata": {},
   "outputs": [
    {
     "data": {
      "text/plain": [
       "0.9833333333333333"
      ]
     },
     "execution_count": 57,
     "metadata": {},
     "output_type": "execute_result"
    }
   ],
   "source": [
    "lr.score(X_train_imdb, y_train_imdb)"
   ]
  },
  {
   "cell_type": "code",
   "execution_count": 58,
   "metadata": {},
   "outputs": [
    {
     "data": {
      "text/plain": [
       "0.8256"
      ]
     },
     "execution_count": 58,
     "metadata": {},
     "output_type": "execute_result"
    }
   ],
   "source": [
    "lr.score(X_test_imdb, y_test_imdb)"
   ]
  },
  {
   "cell_type": "markdown",
   "metadata": {},
   "source": [
    "Cool, we got a better test error this way!"
   ]
  },
  {
   "cell_type": "markdown",
   "metadata": {
    "slideshow": {
     "slide_type": "slide"
    }
   },
   "source": [
    "#### Predicting probabilities\n",
    "\n",
    "- Logistic regression seems to do fairly well on this task.\n",
    "- Furthermore, we have a new and useful method, `predict_proba`.\n",
    "- `predict` returns the class with the highest probability.\n",
    "- Can we find the reviews where our classifier is most confident or least confident?\n",
    "- How about reviews where the classifier is not very confident? "
   ]
  },
  {
   "cell_type": "code",
   "execution_count": 67,
   "metadata": {},
   "outputs": [
    {
     "data": {
      "text/plain": [
       "array(['neg', 'pos'], dtype=object)"
      ]
     },
     "execution_count": 67,
     "metadata": {},
     "output_type": "execute_result"
    }
   ],
   "source": [
    "lr.classes_"
   ]
  },
  {
   "cell_type": "code",
   "execution_count": 65,
   "metadata": {
    "scrolled": true,
    "slideshow": {
     "slide_type": "slide"
    }
   },
   "outputs": [
    {
     "data": {
      "text/plain": [
       "array([[2.77104085e-02, 9.72289591e-01],\n",
       "       [2.45126495e-01, 7.54873505e-01],\n",
       "       [2.97764289e-05, 9.99970224e-01],\n",
       "       ...,\n",
       "       [3.45866415e-02, 9.65413358e-01],\n",
       "       [3.67688371e-02, 9.63231163e-01],\n",
       "       [1.23330879e-02, 9.87666912e-01]])"
      ]
     },
     "execution_count": 65,
     "metadata": {},
     "output_type": "execute_result"
    }
   ],
   "source": [
    "probs = lr.predict_proba(X_test_imdb)\n",
    "probs"
   ]
  },
  {
   "cell_type": "code",
   "execution_count": 66,
   "metadata": {},
   "outputs": [
    {
     "data": {
      "text/plain": [
       "(2500, 2)"
      ]
     },
     "execution_count": 66,
     "metadata": {},
     "output_type": "execute_result"
    }
   ],
   "source": [
    "probs.shape"
   ]
  },
  {
   "cell_type": "markdown",
   "metadata": {},
   "source": [
    "- It gives two columns, the probability of class 0 and the probability of class 1. \n",
    "- We only really care about one of them, since they add to 1. Let's take the second column:"
   ]
  },
  {
   "cell_type": "code",
   "execution_count": 68,
   "metadata": {},
   "outputs": [
    {
     "data": {
      "text/plain": [
       "array([0.97228959, 0.75487351, 0.99997022, ..., 0.96541336, 0.96323116,\n",
       "       0.98766691])"
      ]
     },
     "execution_count": 68,
     "metadata": {},
     "output_type": "execute_result"
    }
   ],
   "source": [
    "lr.predict_proba(X_test_imdb)[:,1]"
   ]
  },
  {
   "cell_type": "markdown",
   "metadata": {},
   "source": [
    "What's the most positive and most negative review according to our classifier?  \n"
   ]
  },
  {
   "cell_type": "code",
   "execution_count": 69,
   "metadata": {},
   "outputs": [
    {
     "data": {
      "text/plain": [
       "0.9999999999977582"
      ]
     },
     "execution_count": 69,
     "metadata": {},
     "output_type": "execute_result"
    }
   ],
   "source": [
    "np.max(lr.predict_proba(X_test_imdb)[:,1])"
   ]
  },
  {
   "cell_type": "markdown",
   "metadata": {},
   "source": [
    "Wow! Let's find that review:"
   ]
  },
  {
   "cell_type": "code",
   "execution_count": 70,
   "metadata": {},
   "outputs": [
    {
     "data": {
      "text/plain": [
       "1594"
      ]
     },
     "execution_count": 70,
     "metadata": {},
     "output_type": "execute_result"
    }
   ],
   "source": [
    "most_positive_ind = np.argmax(lr.predict_proba(X_test_imdb)[:,1])\n",
    "most_positive_ind"
   ]
  },
  {
   "cell_type": "code",
   "execution_count": 71,
   "metadata": {},
   "outputs": [
    {
     "name": "stdout",
     "output_type": "stream",
     "text": [
      "\"Pitch Black\" was a complete shock to me when I first saw it back in 2000. In the previous years, I was repeatedly disappointed by all the lame sci-fi movies (Ex: STARSHIP TROOPERS) and thought that this movie wouldn't be any different. But to plainly put it: This movie freaked me out... in a good way. I wasn't aware that I was still afraid of the dark till I watched this movie; I must have buried my fear in the back of my subconscious when I was a kid and it rightfully deserves to stay there.<br /><br />The alien creatures sent shivers up my spine; the individual(s) who designed them have a twisted but brilliant and creative imagination to come up with something so impressive and grotesque. <br /><br />I loved how the writers gave each main character a history and showed their flaws and strengths without much confusion.<br /><br />Riddick's (Vin Diesel) gift for escaping out of any impossible situation and putting up a hell of a fight was jaw dropping. At first, you figure him out to be a coldly intelligent villain but in some brief moments, you can see something humane behind his animal side. But as soon you discover it, he does something maliciously devious. He certainly keeps you guessing right up to the very end. I didn't know whether to despise or admire him... he's definitely a love/hate type of character.<br /><br />Johns (Cole Hauser) was a perfect example of a character that puts up a good front but through a need for greed, shows his real intentions and what he's willing to do to survive. John's knack for knowing what buttons to push and the right words to say makes him as devious as Riddick.<br /><br />Fry (Radha Mitchell) is a character who, as Johns so nicely expressed, looked to her thine own ass first before considering the consequences. But what's endearing about her is that she quickly realizes the errors of her ways and tries desperately to pay penance, even while endangering her life when others discarded all human values and went for the dark hills running.<br /><br />Jack (Rhiana Griffith) simply wanted to have a hero and was the first one out of the whole group to look for that hero in Riddick; through a child's eye, good can be seen through the thick clouds of evil. I thought it was absolutely priceless when Jack shaves his head in ode to Riddick; you know what they say: Imitation is the best form of flattery.<br /><br />Imam (Keith David), like Jack, has the ability to see good in any evil. He uses philosophy to carry him through the hardships that he meets and when time permits, he rationally grieves his losses and then soldiers on. In a way, he served as a morale booster for the survivors even though most of the characters acted as though they weren't listening.<br /><br />The casting for this movie was positively perfect. Each actor shined brightly in their role and their talents blended wonderfully on-screen.<br /><br />This movie may have had a small budget but the director's leadership and the actor's performances made the movie work and allowed the audience to use their imagination instead of letting some outrageously expensive Special Effects do all the work for them. This movie is a definite Sci-Fi classic. Watch it and judge (with an open mind) for yourself. It will be well worth it.\n"
     ]
    }
   ],
   "source": [
    "print(X_test_imdb_raw.iloc[most_positive_ind])"
   ]
  },
  {
   "cell_type": "markdown",
   "metadata": {},
   "source": [
    "Most negative review:"
   ]
  },
  {
   "cell_type": "code",
   "execution_count": 77,
   "metadata": {},
   "outputs": [
    {
     "data": {
      "text/plain": [
       "2.679889028418538e-13"
      ]
     },
     "execution_count": 77,
     "metadata": {},
     "output_type": "execute_result"
    }
   ],
   "source": [
    "np.min(lr.predict_proba(X_test_imdb)[:,1])"
   ]
  },
  {
   "cell_type": "code",
   "execution_count": 72,
   "metadata": {},
   "outputs": [
    {
     "data": {
      "text/plain": [
       "382"
      ]
     },
     "execution_count": 72,
     "metadata": {},
     "output_type": "execute_result"
    }
   ],
   "source": [
    "most_negative_ind = np.argmax(lr.predict_proba(X_test_imdb)[:,0])\n",
    "most_negative_ind"
   ]
  },
  {
   "cell_type": "code",
   "execution_count": 73,
   "metadata": {},
   "outputs": [
    {
     "name": "stdout",
     "output_type": "stream",
     "text": [
      "I'm a big horror film buff, particularly of the 1980's subgenres. Name one Â? I've probably seen it. Last year, a new little horror movie that seemed to slip under mainstream radar called \"Saw\" was about to hit theaters. I was moderately excited. Having not heard anything about it, I thought it looked quite promising judging by the previews and posters (well, except the back and white ones with the severed hands and feet...those just looked terrible!) I saw the film on opening night. It was one of the worst experiences of my life. This movie was literally mentally and psychically painful to watch. Because it was scary?...NO! Because it was one of the most awful movies I had ever had the displeasure of seeing! First off, the construction of the screenplay and editing was utterly atrocious, even by horror movie standards. Starting off a sequence in an interrogation room with a victim (Shawnee Smith) who recently survived a serial killer's attack, then showing a flashback of what she survived? NOT SCARY! It was impossible to feel any type of tension WHATSOEVER knowing that the aforementioned victim was perfectly alright. Sure, that reverse-bear-trap thing was creepy...but WHY should I feel in the least bit frightened when CLEARLY, you just showed me she survived the ordeal? Unfortunately, the entire film was constructed this way. It starts with two guys in a cellar. Then, they show flashbacks of how they were abducted...NOT SCARY! Why? Because we already know what's gonna happen to them, seeing as how we JUST SAW the result of the attack. THEY'RE FINE! Move on with the story! Even more unfortunately, the actual story was meager at best. I couldn't have cared less for these annoying, pitiful excuses for \"characters\" and the acting didn't help. Cary Elwes was solid for the most part and then suddenly towards the end he started crying like a lost infant while straining to keep his American accent in tact (it didn't work Â? the audience I saw this with was in stitches). This drove him to a rash and idiotic decision even the most simple-minded wouldn't attempt. He had other options. Better ones. SMARTER ONES. Even given his intense emotional state (horribly communicated through horrible acting), it was still irrational. I didn't buy it. BAD WRITING ALERT! Furthermore, even when certain sequences were played straight-through and flashback-free, they were painfully predictable. I constantly found my foot tapping impatiently waiting for the dumb sequence to end. This happened for the entire film. I saw every single \"twist\" coming. Twenty minutes into the film, I had already called the killer's identity, not to mention his connection to his \"accomplice(s)\" as SOON as they appeared on screen. Better acting might've been able to overshadow the awful script. Instead, the actors might as well have had \"RED-HERRING\" or \"ACCOMPLICE\" tattooed across their foreheads.<br /><br />By the end of the movie, I was utterly outraged I had wasted even a fragment of my life on this film, and the entire theatre was laughing hysterically at the downright horrendous finale. Seriously, you'd think they were watching a Monty Python movie. I would've been laughing too, had I not been so angered at the film's total and utter failure to accomplish ANYTHING it set out to do. When we left, there was (no joke) a line to speak to the manager of the theatre to get their money back (didn't happen). I was absolutely positive the movie was going to be a box-office bomb. The following week, you couldn't have imagined my shock to find out \"Saw\" had hit number one at the box office and EVERYONE was talking about it (mostly individuals who found \"Napoleon Dynamite\" to be a thought-provoking epic tale and thought \"satire\" was some type of rubber). I am so utterly sickened to hear people praise this film that I often feel as though I'm going to vomit. It's entertainment for the most feeble and simple-minded of the human race. Those who find some weird Jigsaw clown-puppet riding on a tricycle threatening (it's a doll Â? knock it over and leave Â? what's so frightening about that?).<br /><br />Don't get me wrong, I own every \"Friday the 13th\", love my splatter movies, thought \"Napoleon Dynamite\" was hilarious, can't get enough of Freddy, Michael, Pinhead, or Leatherface, have a font appreciation for unknown horror gems and rank \"Sleepaway Camp II: Unhappy Campers\" amongst my Top 10 Favorite Slashers. However, I realize these films aren't the most sophisticated American cinema has to offer Â? I appreciate them for what they are Â? quick, easy fun. \"Saw\" is cinematic garbage. The film attempts to be a smart and semi-sophisticated, nasty little thrill ride, and bogs down to an irritating, annoying waste of time, money, energy, and celluloid. Atrocious on all accounts. Every single copy should be incinerated, along with its feeble-minded fans. Shame on all of you.<br /><br />Will I see \"Saw II\"? Maybe after I take a double-shot of Liquid Drano before I gouge out my own eyes and impale white-hot shish-kabob brochettes into my ears and colon. My Rating: 0/10. Avoid at all costs.\n"
     ]
    }
   ],
   "source": [
    "print(X_test_imdb_raw.iloc[most_negative_ind])"
   ]
  },
  {
   "cell_type": "markdown",
   "metadata": {},
   "source": [
    "## Q&A\n",
    "\n",
    "(Pause for Q&A)\n",
    "\n",
    "<br><br><br><br>"
   ]
  },
  {
   "cell_type": "markdown",
   "metadata": {
    "slideshow": {
     "slide_type": "slide"
    }
   },
   "source": [
    "## Logistic regression: coefficients and interpretation (10 min)\n",
    "\n",
    "- One of the primary advantage of linear classifiers is their ability to interpret models. \n",
    "- What features are most useful for prediction? What words are swaying it positive or negative?"
   ]
  },
  {
   "cell_type": "markdown",
   "metadata": {
    "slideshow": {
     "slide_type": "slide"
    }
   },
   "source": [
    "#### Let's find the most informative words for positive and negative reviews \n",
    "\n",
    "- The information you need is exposed by the `coef_` attribute of [LogisticRegression](http://scikit-learn.org/stable/modules/generated/sklearn.linear_model.LogisticRegression.html) object. \n",
    "- The vocabulary (mapping from feature indices to actual words) can be obtained as follows: "
   ]
  },
  {
   "cell_type": "code",
   "execution_count": 78,
   "metadata": {},
   "outputs": [
    {
     "data": {
      "text/plain": [
       "array([[-0.69748587,  0.68674704,  0.02057012, ..., -0.7324146 ,\n",
       "        -0.550139  , -0.35196627]])"
      ]
     },
     "execution_count": 78,
     "metadata": {},
     "output_type": "execute_result"
    }
   ],
   "source": [
    "lr.coef_"
   ]
  },
  {
   "cell_type": "code",
   "execution_count": 80,
   "metadata": {
    "slideshow": {
     "slide_type": "slide"
    }
   },
   "outputs": [
    {
     "data": {
      "text/plain": [
       "['000', '10', '100', '11', '12', '13', '15', '1950', '1970', '20']"
      ]
     },
     "execution_count": 80,
     "metadata": {},
     "output_type": "execute_result"
    }
   ],
   "source": [
    "# Get features (words in our case)\n",
    "vocab = vec.get_feature_names()\n",
    "vocab[:10]"
   ]
  },
  {
   "cell_type": "code",
   "execution_count": 81,
   "metadata": {},
   "outputs": [
    {
     "data": {
      "text/plain": [
       "array([-0.69748587,  0.68674704,  0.02057012, -0.15322152,  0.59517478,\n",
       "       -0.27450501, -0.93007   ,  0.09361947, -0.73974962,  0.06040557])"
      ]
     },
     "execution_count": 81,
     "metadata": {},
     "output_type": "execute_result"
    }
   ],
   "source": [
    "weights = lr.coef_.ravel()\n",
    "weights[:10]"
   ]
  },
  {
   "cell_type": "code",
   "execution_count": 82,
   "metadata": {},
   "outputs": [
    {
     "data": {
      "text/html": [
       "<div>\n",
       "<style scoped>\n",
       "    .dataframe tbody tr th:only-of-type {\n",
       "        vertical-align: middle;\n",
       "    }\n",
       "\n",
       "    .dataframe tbody tr th {\n",
       "        vertical-align: top;\n",
       "    }\n",
       "\n",
       "    .dataframe thead th {\n",
       "        text-align: right;\n",
       "    }\n",
       "</style>\n",
       "<table border=\"1\" class=\"dataframe\">\n",
       "  <thead>\n",
       "    <tr style=\"text-align: right;\">\n",
       "      <th></th>\n",
       "      <th>Weight</th>\n",
       "    </tr>\n",
       "  </thead>\n",
       "  <tbody>\n",
       "    <tr>\n",
       "      <th>000</th>\n",
       "      <td>-0.697486</td>\n",
       "    </tr>\n",
       "    <tr>\n",
       "      <th>10</th>\n",
       "      <td>0.686747</td>\n",
       "    </tr>\n",
       "    <tr>\n",
       "      <th>100</th>\n",
       "      <td>0.020570</td>\n",
       "    </tr>\n",
       "    <tr>\n",
       "      <th>11</th>\n",
       "      <td>-0.153222</td>\n",
       "    </tr>\n",
       "    <tr>\n",
       "      <th>12</th>\n",
       "      <td>0.595175</td>\n",
       "    </tr>\n",
       "    <tr>\n",
       "      <th>...</th>\n",
       "      <td>...</td>\n",
       "    </tr>\n",
       "    <tr>\n",
       "      <th>your</th>\n",
       "      <td>0.015690</td>\n",
       "    </tr>\n",
       "    <tr>\n",
       "      <th>yourself</th>\n",
       "      <td>0.175757</td>\n",
       "    </tr>\n",
       "    <tr>\n",
       "      <th>youth</th>\n",
       "      <td>-0.732415</td>\n",
       "    </tr>\n",
       "    <tr>\n",
       "      <th>zero</th>\n",
       "      <td>-0.550139</td>\n",
       "    </tr>\n",
       "    <tr>\n",
       "      <th>zombie</th>\n",
       "      <td>-0.351966</td>\n",
       "    </tr>\n",
       "  </tbody>\n",
       "</table>\n",
       "<p>2573 rows × 1 columns</p>\n",
       "</div>"
      ],
      "text/plain": [
       "            Weight\n",
       "000      -0.697486\n",
       "10        0.686747\n",
       "100       0.020570\n",
       "11       -0.153222\n",
       "12        0.595175\n",
       "...            ...\n",
       "your      0.015690\n",
       "yourself  0.175757\n",
       "youth    -0.732415\n",
       "zero     -0.550139\n",
       "zombie   -0.351966\n",
       "\n",
       "[2573 rows x 1 columns]"
      ]
     },
     "execution_count": 82,
     "metadata": {},
     "output_type": "execute_result"
    }
   ],
   "source": [
    "words_weights_df = pd.DataFrame(data=weights, index=vocab, columns=['Weight'])\n",
    "words_weights_df"
   ]
  },
  {
   "cell_type": "code",
   "execution_count": 83,
   "metadata": {},
   "outputs": [
    {
     "data": {
      "text/html": [
       "<div>\n",
       "<style scoped>\n",
       "    .dataframe tbody tr th:only-of-type {\n",
       "        vertical-align: middle;\n",
       "    }\n",
       "\n",
       "    .dataframe tbody tr th {\n",
       "        vertical-align: top;\n",
       "    }\n",
       "\n",
       "    .dataframe thead th {\n",
       "        text-align: right;\n",
       "    }\n",
       "</style>\n",
       "<table border=\"1\" class=\"dataframe\">\n",
       "  <thead>\n",
       "    <tr style=\"text-align: right;\">\n",
       "      <th></th>\n",
       "      <th>Weight</th>\n",
       "    </tr>\n",
       "  </thead>\n",
       "  <tbody>\n",
       "    <tr>\n",
       "      <th>perfect</th>\n",
       "      <td>1.729790</td>\n",
       "    </tr>\n",
       "    <tr>\n",
       "      <th>spectacular</th>\n",
       "      <td>1.620309</td>\n",
       "    </tr>\n",
       "    <tr>\n",
       "      <th>amazing</th>\n",
       "      <td>1.600239</td>\n",
       "    </tr>\n",
       "    <tr>\n",
       "      <th>loved</th>\n",
       "      <td>1.579306</td>\n",
       "    </tr>\n",
       "    <tr>\n",
       "      <th>surprisingly</th>\n",
       "      <td>1.562321</td>\n",
       "    </tr>\n",
       "    <tr>\n",
       "      <th>...</th>\n",
       "      <td>...</td>\n",
       "    </tr>\n",
       "    <tr>\n",
       "      <th>poorly</th>\n",
       "      <td>-2.015212</td>\n",
       "    </tr>\n",
       "    <tr>\n",
       "      <th>mess</th>\n",
       "      <td>-2.067356</td>\n",
       "    </tr>\n",
       "    <tr>\n",
       "      <th>awful</th>\n",
       "      <td>-2.137512</td>\n",
       "    </tr>\n",
       "    <tr>\n",
       "      <th>laughable</th>\n",
       "      <td>-2.204186</td>\n",
       "    </tr>\n",
       "    <tr>\n",
       "      <th>waste</th>\n",
       "      <td>-2.477324</td>\n",
       "    </tr>\n",
       "  </tbody>\n",
       "</table>\n",
       "<p>2573 rows × 1 columns</p>\n",
       "</div>"
      ],
      "text/plain": [
       "                Weight\n",
       "perfect       1.729790\n",
       "spectacular   1.620309\n",
       "amazing       1.600239\n",
       "loved         1.579306\n",
       "surprisingly  1.562321\n",
       "...                ...\n",
       "poorly       -2.015212\n",
       "mess         -2.067356\n",
       "awful        -2.137512\n",
       "laughable    -2.204186\n",
       "waste        -2.477324\n",
       "\n",
       "[2573 rows x 1 columns]"
      ]
     },
     "execution_count": 83,
     "metadata": {},
     "output_type": "execute_result"
    }
   ],
   "source": [
    "words_weights_df.sort_values(by=\"Weight\", ascending=False)"
   ]
  },
  {
   "cell_type": "markdown",
   "metadata": {},
   "source": [
    "- These coefficients make sense!\n",
    "- Let's use this to explore one of the test cases:"
   ]
  },
  {
   "cell_type": "code",
   "execution_count": 84,
   "metadata": {},
   "outputs": [
    {
     "data": {
      "text/plain": [
       "0.9993078189259635"
      ]
     },
     "execution_count": 84,
     "metadata": {},
     "output_type": "execute_result"
    }
   ],
   "source": [
    "ex = 5\n",
    "lr.predict_proba(X_test_imdb)[ex,1]"
   ]
  },
  {
   "cell_type": "code",
   "execution_count": 86,
   "metadata": {},
   "outputs": [
    {
     "data": {
      "text/plain": [
       "'pos'"
      ]
     },
     "execution_count": 86,
     "metadata": {},
     "output_type": "execute_result"
    }
   ],
   "source": [
    "lr.predict(X_test_imdb)[ex]"
   ]
  },
  {
   "cell_type": "code",
   "execution_count": 87,
   "metadata": {},
   "outputs": [
    {
     "data": {
      "text/plain": [
       "'As a convert into the Church of Jesus Christ of Latter Day Saints, I try to absorb as much as I can of my new religion\\'s history. I was invited to attend a showing of this film with my sons & the other young men & women as well as their families of our ward. <br /><br />On a beautiful spring evening, we drove to Kirtland, Ohio to the church\\'s historical village located there. We were to have had reservations at the Vistor\\'s Center to view this movie. Since my movie viewing was limited to only a few church documentaries, I was intrigued. The only \"full length motion pictures\" of the church\\'s I had seen was \"Legacy\" and \"My Best Two Years\", both which I thought were very well written and preformed.<br /><br />At the beginning, the missionary interpretor passed out tissues stating that several people had been deeply moved to the point of tears by this movie. I thought \"OK...but it takes a lot to move me to tears.\" Imagine my surprise when I found myself sobbing! It truly is a very moving & inspirational testament to the Prophet Joseph Smith.<br /><br />See it & believe in it\\'s powerful message!'"
      ]
     },
     "execution_count": 87,
     "metadata": {},
     "output_type": "execute_result"
    }
   ],
   "source": [
    "X_test_imdb_raw.iloc[ex]"
   ]
  },
  {
   "cell_type": "markdown",
   "metadata": {},
   "source": [
    "We can find which of the vocabulary words are present in this review:"
   ]
  },
  {
   "cell_type": "code",
   "execution_count": 88,
   "metadata": {},
   "outputs": [
    {
     "data": {
      "text/plain": [
       "array([False, False, False, ..., False, False, False])"
      ]
     },
     "execution_count": 88,
     "metadata": {},
     "output_type": "execute_result"
    }
   ],
   "source": [
    "words_in_ex = X_test_imdb[ex].toarray().ravel().astype(bool)\n",
    "words_in_ex"
   ]
  },
  {
   "cell_type": "markdown",
   "metadata": {},
   "source": [
    "How many of the words are in this review?"
   ]
  },
  {
   "cell_type": "code",
   "execution_count": 89,
   "metadata": {},
   "outputs": [
    {
     "data": {
      "text/plain": [
       "94"
      ]
     },
     "execution_count": 89,
     "metadata": {},
     "output_type": "execute_result"
    }
   ],
   "source": [
    "np.sum(words_in_ex)"
   ]
  },
  {
   "cell_type": "code",
   "execution_count": 90,
   "metadata": {},
   "outputs": [
    {
     "data": {
      "text/plain": [
       "array(['and', 'as', 'at', 'beautiful', 'been', 'beginning', 'believe',\n",
       "       'best', 'both', 'br', 'but', 'by', 'can', 'center', 'church',\n",
       "       'day', 'deeply', 'evening', 'families', 'few', 'film', 'found',\n",
       "       'full', 'had', 'have', 'historical', 'history', 'imagine', 'in',\n",
       "       'into', 'is', 'it', 'latter', 'length', 'limited', 'lot', 'me',\n",
       "       'men', 'message', 'motion', 'move', 'moved', 'movie', 'moving',\n",
       "       'much', 'my', 'myself', 'new', 'of', 'ok', 'on', 'only', 'other',\n",
       "       'our', 'out', 'passed', 'people', 'pictures', 'point', 'powerful',\n",
       "       'see', 'seen', 'several', 'showing', 'since', 'smith', 'surprise',\n",
       "       'takes', 'tears', 'that', 'the', 'their', 'there', 'this',\n",
       "       'thought', 'to', 'truly', 'try', 'two', 'very', 'view', 'viewing',\n",
       "       'village', 'was', 'we', 'well', 'were', 'when', 'which', 'with',\n",
       "       'women', 'written', 'years', 'young'], dtype='<U14')"
      ]
     },
     "execution_count": 90,
     "metadata": {},
     "output_type": "execute_result"
    }
   ],
   "source": [
    "np.array(vocab)[words_in_ex]"
   ]
  },
  {
   "cell_type": "code",
   "execution_count": 91,
   "metadata": {},
   "outputs": [
    {
     "data": {
      "text/html": [
       "<div>\n",
       "<style scoped>\n",
       "    .dataframe tbody tr th:only-of-type {\n",
       "        vertical-align: middle;\n",
       "    }\n",
       "\n",
       "    .dataframe tbody tr th {\n",
       "        vertical-align: top;\n",
       "    }\n",
       "\n",
       "    .dataframe thead th {\n",
       "        text-align: right;\n",
       "    }\n",
       "</style>\n",
       "<table border=\"1\" class=\"dataframe\">\n",
       "  <thead>\n",
       "    <tr style=\"text-align: right;\">\n",
       "      <th></th>\n",
       "      <th>Weight</th>\n",
       "    </tr>\n",
       "  </thead>\n",
       "  <tbody>\n",
       "    <tr>\n",
       "      <th>and</th>\n",
       "      <td>0.027488</td>\n",
       "    </tr>\n",
       "    <tr>\n",
       "      <th>as</th>\n",
       "      <td>0.087752</td>\n",
       "    </tr>\n",
       "    <tr>\n",
       "      <th>at</th>\n",
       "      <td>-0.053590</td>\n",
       "    </tr>\n",
       "    <tr>\n",
       "      <th>beautiful</th>\n",
       "      <td>0.850001</td>\n",
       "    </tr>\n",
       "    <tr>\n",
       "      <th>been</th>\n",
       "      <td>-0.358442</td>\n",
       "    </tr>\n",
       "    <tr>\n",
       "      <th>...</th>\n",
       "      <td>...</td>\n",
       "    </tr>\n",
       "    <tr>\n",
       "      <th>with</th>\n",
       "      <td>0.184486</td>\n",
       "    </tr>\n",
       "    <tr>\n",
       "      <th>women</th>\n",
       "      <td>-0.393783</td>\n",
       "    </tr>\n",
       "    <tr>\n",
       "      <th>written</th>\n",
       "      <td>0.135455</td>\n",
       "    </tr>\n",
       "    <tr>\n",
       "      <th>years</th>\n",
       "      <td>0.652555</td>\n",
       "    </tr>\n",
       "    <tr>\n",
       "      <th>young</th>\n",
       "      <td>0.418097</td>\n",
       "    </tr>\n",
       "  </tbody>\n",
       "</table>\n",
       "<p>94 rows × 1 columns</p>\n",
       "</div>"
      ],
      "text/plain": [
       "             Weight\n",
       "and        0.027488\n",
       "as         0.087752\n",
       "at        -0.053590\n",
       "beautiful  0.850001\n",
       "been      -0.358442\n",
       "...             ...\n",
       "with       0.184486\n",
       "women     -0.393783\n",
       "written    0.135455\n",
       "years      0.652555\n",
       "young      0.418097\n",
       "\n",
       "[94 rows x 1 columns]"
      ]
     },
     "execution_count": 91,
     "metadata": {},
     "output_type": "execute_result"
    }
   ],
   "source": [
    "ex_df = pd.DataFrame(data=weights[words_in_ex], index=np.array(vocab)[words_in_ex], columns=['Weight'])\n",
    "ex_df"
   ]
  },
  {
   "cell_type": "code",
   "execution_count": 92,
   "metadata": {},
   "outputs": [
    {
     "data": {
      "text/plain": [
       "Weight    6.459708\n",
       "dtype: float64"
      ]
     },
     "execution_count": 92,
     "metadata": {},
     "output_type": "execute_result"
    }
   ],
   "source": [
    "ex_df.sum()"
   ]
  },
  {
   "cell_type": "markdown",
   "metadata": {},
   "source": [
    "- The more positive this value is, the closer to 1 the predicted probability would be. \n",
    "- Also, the more negative this value is, the closer to 0 the predicted probability would be. \n",
    "  - If this value were exactly 0, the predicted probability would be exactly 0.5."
   ]
  },
  {
   "cell_type": "markdown",
   "metadata": {
    "slideshow": {
     "slide_type": "slide"
    }
   },
   "source": [
    "#### Why people use logistic regression?  \n",
    "\n",
    "- Logistic regression is extremely popular!\n",
    "- Fast training and testing.\n",
    "  - Training on huge datasets.\n",
    "- Interpretability\n",
    "  - Weights are how much a given feature changes the prediction and in what direction."
   ]
  },
  {
   "cell_type": "markdown",
   "metadata": {},
   "source": [
    "## Q&A\n",
    "\n",
    "(Pause for Q&A)\n",
    "\n",
    "<br><br><br><br>"
   ]
  },
  {
   "cell_type": "markdown",
   "metadata": {},
   "source": [
    "## Logistic regression with continuous features (5 min)"
   ]
  },
  {
   "cell_type": "code",
   "execution_count": 93,
   "metadata": {
    "slideshow": {
     "slide_type": "slide"
    }
   },
   "outputs": [],
   "source": [
    "cilantro_df = pd.read_csv('data/330-students-cilantro.csv')\n",
    "cilantro_df.columns = [\"meat\", \"grade\", \"cilantro\"]"
   ]
  },
  {
   "cell_type": "code",
   "execution_count": 94,
   "metadata": {},
   "outputs": [],
   "source": [
    "cilantro_train, cilantro_test = train_test_split(cilantro_df, random_state=1)"
   ]
  },
  {
   "cell_type": "code",
   "execution_count": 98,
   "metadata": {},
   "outputs": [
    {
     "data": {
      "text/html": [
       "<div>\n",
       "<style scoped>\n",
       "    .dataframe tbody tr th:only-of-type {\n",
       "        vertical-align: middle;\n",
       "    }\n",
       "\n",
       "    .dataframe tbody tr th {\n",
       "        vertical-align: top;\n",
       "    }\n",
       "\n",
       "    .dataframe thead th {\n",
       "        text-align: right;\n",
       "    }\n",
       "</style>\n",
       "<table border=\"1\" class=\"dataframe\">\n",
       "  <thead>\n",
       "    <tr style=\"text-align: right;\">\n",
       "      <th></th>\n",
       "      <th>meat</th>\n",
       "      <th>grade</th>\n",
       "      <th>cilantro</th>\n",
       "    </tr>\n",
       "  </thead>\n",
       "  <tbody>\n",
       "    <tr>\n",
       "      <th>98</th>\n",
       "      <td>100.0</td>\n",
       "      <td>90</td>\n",
       "      <td>No</td>\n",
       "    </tr>\n",
       "    <tr>\n",
       "      <th>123</th>\n",
       "      <td>100.0</td>\n",
       "      <td>90</td>\n",
       "      <td>Yes</td>\n",
       "    </tr>\n",
       "    <tr>\n",
       "      <th>119</th>\n",
       "      <td>85.0</td>\n",
       "      <td>85</td>\n",
       "      <td>Yes</td>\n",
       "    </tr>\n",
       "    <tr>\n",
       "      <th>53</th>\n",
       "      <td>100.0</td>\n",
       "      <td>80</td>\n",
       "      <td>Yes</td>\n",
       "    </tr>\n",
       "    <tr>\n",
       "      <th>33</th>\n",
       "      <td>100.0</td>\n",
       "      <td>80</td>\n",
       "      <td>Yes</td>\n",
       "    </tr>\n",
       "  </tbody>\n",
       "</table>\n",
       "</div>"
      ],
      "text/plain": [
       "      meat  grade cilantro\n",
       "98   100.0     90       No\n",
       "123  100.0     90      Yes\n",
       "119   85.0     85      Yes\n",
       "53   100.0     80      Yes\n",
       "33   100.0     80      Yes"
      ]
     },
     "execution_count": 98,
     "metadata": {},
     "output_type": "execute_result"
    }
   ],
   "source": [
    "cilantro_train.head()"
   ]
  },
  {
   "cell_type": "code",
   "execution_count": 95,
   "metadata": {},
   "outputs": [],
   "source": [
    "cilantro_X_train = cilantro_train[[\"meat\", \"grade\"]]\n",
    "cilantro_y_train = cilantro_train[\"cilantro\"]"
   ]
  },
  {
   "cell_type": "code",
   "execution_count": 96,
   "metadata": {},
   "outputs": [],
   "source": [
    "lr = LogisticRegression()\n",
    "lr.fit(cilantro_X_train, cilantro_y_train);"
   ]
  },
  {
   "cell_type": "code",
   "execution_count": 97,
   "metadata": {},
   "outputs": [
    {
     "data": {
      "image/png": "[encoded data removed]",
      "text/plain": [
       "<Figure size 432x288 with 1 Axes>"
      ]
     },
     "metadata": {},
     "output_type": "display_data"
    }
   ],
   "source": [
    "plot_classifier(cilantro_X_train, cilantro_y_train, lr);"
   ]
  },
  {
   "cell_type": "code",
   "execution_count": 99,
   "metadata": {},
   "outputs": [
    {
     "data": {
      "text/plain": [
       "array([[-0.01768175,  0.05546546]])"
      ]
     },
     "execution_count": 99,
     "metadata": {},
     "output_type": "execute_result"
    }
   ],
   "source": [
    "lr.coef_"
   ]
  },
  {
   "cell_type": "markdown",
   "metadata": {},
   "source": [
    "- There are still some coefficients/weights being multiplied by the features.\n",
    "- A linear classifier \"slices the space in half\" with a \"hyperplane\" (with 2 features, this is just a line)."
   ]
  },
  {
   "cell_type": "markdown",
   "metadata": {},
   "source": [
    "Let's look at the predicted probabilties:"
   ]
  },
  {
   "cell_type": "code",
   "execution_count": 100,
   "metadata": {
    "slideshow": {
     "slide_type": "slide"
    }
   },
   "outputs": [
    {
     "data": {
      "image/png": "[encoded data removed]",
      "text/plain": [
       "<Figure size 432x288 with 2 Axes>"
      ]
     },
     "metadata": {
      "needs_background": "light"
     },
     "output_type": "display_data"
    }
   ],
   "source": [
    "plot_classifier(cilantro_X_train, cilantro_y_train, lr, proba=True);"
   ]
  },
  {
   "cell_type": "markdown",
   "metadata": {},
   "source": [
    "An important hyperparameter: `C` (default is `C=1.0`)."
   ]
  },
  {
   "cell_type": "code",
   "execution_count": null,
   "metadata": {},
   "outputs": [],
   "source": [
    "lr = LogisticRegression(C=0.001)\n",
    "lr.fit(cilantro_X_train, cilantro_y_train);\n",
    "plot_classifier(cilantro_X_train, cilantro_y_train, lr, proba=True);"
   ]
  },
  {
   "cell_type": "markdown",
   "metadata": {},
   "source": [
    "- Smaller `C` leads to less confident predictions (probabilties closer to 0.5).\n",
    "- In general, we say smaller `C` leads to a less complex model (like a shallower decision tree).\n",
    "  - Complex models are really a larger `C` in conjunction with lots of features.\n",
    "  - Here we only have 2 features."
   ]
  },
  {
   "cell_type": "code",
   "execution_count": null,
   "metadata": {},
   "outputs": [],
   "source": [
    "lr = LogisticRegression(C=1000)\n",
    "lr.fit(cilantro_X_train, cilantro_y_train);\n",
    "plot_classifier(cilantro_X_train, cilantro_y_train, lr, proba=True);"
   ]
  },
  {
   "cell_type": "markdown",
   "metadata": {},
   "source": [
    "Back to the IMDB dataset:"
   ]
  },
  {
   "cell_type": "code",
   "execution_count": 101,
   "metadata": {},
   "outputs": [
    {
     "data": {
      "text/plain": [
       "0.9833333333333333"
      ]
     },
     "execution_count": 101,
     "metadata": {},
     "output_type": "execute_result"
    }
   ],
   "source": [
    "lr = LogisticRegression(max_iter=1000)\n",
    "lr.fit(X_train_imdb, y_train_imdb)\n",
    "lr.score(X_train_imdb, y_train_imdb)"
   ]
  },
  {
   "cell_type": "code",
   "execution_count": 102,
   "metadata": {},
   "outputs": [
    {
     "data": {
      "text/plain": [
       "0.8256"
      ]
     },
     "execution_count": 102,
     "metadata": {},
     "output_type": "execute_result"
    }
   ],
   "source": [
    "lr.score(X_test_imdb, y_test_imdb) "
   ]
  },
  {
   "cell_type": "code",
   "execution_count": 103,
   "metadata": {},
   "outputs": [
    {
     "data": {
      "text/plain": [
       "1.0"
      ]
     },
     "execution_count": 103,
     "metadata": {},
     "output_type": "execute_result"
    }
   ],
   "source": [
    "lr = LogisticRegression(max_iter=1000, C=10_000)\n",
    "lr.fit(X_train_imdb, y_train_imdb)\n",
    "lr.score(X_train_imdb, y_train_imdb)"
   ]
  },
  {
   "cell_type": "code",
   "execution_count": 104,
   "metadata": {},
   "outputs": [
    {
     "data": {
      "text/plain": [
       "0.8044"
      ]
     },
     "execution_count": 104,
     "metadata": {},
     "output_type": "execute_result"
    }
   ],
   "source": [
    "lr.score(X_test_imdb, y_test_imdb) "
   ]
  },
  {
   "cell_type": "markdown",
   "metadata": {},
   "source": [
    "Above: higher `C` leads to more overfitting."
   ]
  },
  {
   "cell_type": "code",
   "execution_count": 105,
   "metadata": {},
   "outputs": [
    {
     "data": {
      "text/plain": [
       "0.8949333333333334"
      ]
     },
     "execution_count": 105,
     "metadata": {},
     "output_type": "execute_result"
    }
   ],
   "source": [
    "lr = LogisticRegression(C=0.01)\n",
    "lr.fit(X_train_imdb, y_train_imdb)\n",
    "lr.score(X_train_imdb, y_train_imdb)"
   ]
  },
  {
   "cell_type": "code",
   "execution_count": 106,
   "metadata": {},
   "outputs": [
    {
     "data": {
      "text/plain": [
       "0.8416"
      ]
     },
     "execution_count": 106,
     "metadata": {},
     "output_type": "execute_result"
    }
   ],
   "source": [
    "lr.score(X_test_imdb, y_test_imdb) "
   ]
  },
  {
   "cell_type": "markdown",
   "metadata": {},
   "source": [
    "Above: lower `C` leads to less overfitting."
   ]
  },
  {
   "cell_type": "code",
   "execution_count": 109,
   "metadata": {},
   "outputs": [
    {
     "data": {
      "image/png": "[encoded data removed]",
      "text/plain": [
       "<Figure size 432x288 with 1 Axes>"
      ]
     },
     "metadata": {
      "needs_background": "light"
     },
     "output_type": "display_data"
    }
   ],
   "source": [
    "C_vals = 5.0**np.arange(-4,2)\n",
    "scores = []\n",
    "scores_train = []\n",
    "for C in C_vals:\n",
    "    lr = LogisticRegression(max_iter=1000, C=C)\n",
    "    lr.fit(X_train_imdb, y_train_imdb)\n",
    "    score_train = lr.score(X_train_imdb, y_train_imdb)\n",
    "    score = lr.score(X_test_imdb, y_test_imdb)\n",
    "    scores.append(score)\n",
    "    scores_train.append(score_train)\n",
    "plt.plot(C_vals, scores);\n",
    "plt.plot(C_vals, scores_train);\n",
    "plt.xlabel(\"C\");\n",
    "plt.ylabel(\"accuracy score\");"
   ]
  },
  {
   "cell_type": "markdown",
   "metadata": {},
   "source": [
    "## Next class & test set\n",
    "\n",
    "- Note I previously said not to do hyperparameter tuning on the test set.\n",
    "- We didn't use cross-validation today because we need one more element, Pipelines.\n",
    "- Next class we'll talk about Pipelines and hyperparameter tuning."
   ]
  },
  {
   "cell_type": "markdown",
   "metadata": {},
   "source": [
    "## Q&A\n",
    "\n",
    "(Pause for Q&A) \n",
    "\n",
    "<br><br><br><br>"
   ]
  },
  {
   "cell_type": "markdown",
   "metadata": {},
   "source": [
    "## Summary\n",
    "\n",
    "- IMDB movie review data: predict positive or negative review sentiment\n",
    "- How to turn text into numeric features? Word counts (or presence/absence of a word).\n",
    "  - This we create one column per word in our \"vocabulary\"\n",
    "  - `max_features` hyperparameter controls how many words we include (takes the most frequent ones up to `max_features`)\n",
    "- Make sure to split data _before_ preprocessing.\n",
    "- Make sure not to call `fit` on validation/test data (this goes for both classifiers and transformers).\n",
    "- `predict_proba`: useful confidence scores, but we won't interpret them as actual probabilities.\n",
    "- Logistic regression coefficients: \n",
    "  - The sign matters: positive means increasing that feature gives a higher probability score for the \"positive class\" (arbitrarily defined for each problem)\n",
    "  - The magnitude matters: larger coefficients means the feature contributes more toward the scores\n",
    "- With `CountVectorizer` each feature is a word, thus each logistic regression coefficient corresponds to a word.\n",
    "  - So, by looking at the coefficients we can get a sense of which words are the \"most positive\" and \"most negative\" (more on this later in the course!)\n",
    "- Key hyperparameter of `LogisticRegression` is `C`; larger `C` leads to more complexity (higher training score, higher train-test gap)"
   ]
  },
  {
   "cell_type": "code",
   "execution_count": null,
   "metadata": {},
   "outputs": [],
   "source": []
  },
  {
   "cell_type": "code",
   "execution_count": null,
   "metadata": {},
   "outputs": [],
   "source": []
  },
  {
   "cell_type": "markdown",
   "metadata": {},
   "source": [
    "## True/False questions\n",
    "\n",
    "1. With `CountVectorizer`, we should `fit` on the training data and `transform` on both the train/test data.\n",
    "2. `predict` returns the positive class if the predicted probability of the positive class is greater than 0.5.\n",
    "3. Logistic regression overfits less than decision trees.\n",
    "4. With logistic regression, we learn one weight per training example."
   ]
  },
  {
   "cell_type": "code",
   "execution_count": null,
   "metadata": {},
   "outputs": [],
   "source": []
  }
 ],
 "metadata": {
  "celltoolbar": "Slideshow",
  "kernelspec": {
   "display_name": "Python 3",
   "language": "python",
   "name": "python3"
  },
  "language_info": {
   "codemirror_mode": {
    "name": "ipython",
    "version": 3
   },
   "file_extension": ".py",
   "mimetype": "text/x-python",
   "name": "python",
   "nbconvert_exporter": "python",
   "pygments_lexer": "ipython3",
   "version": "3.8.5"
  }
 },
 "nbformat": 4,
 "nbformat_minor": 4
}
